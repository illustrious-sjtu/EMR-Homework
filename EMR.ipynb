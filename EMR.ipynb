{
 "cells": [
  {
   "cell_type": "code",
   "execution_count": 1,
   "metadata": {},
   "outputs": [],
   "source": [
    "#导入需要的数据分析相关的包\n",
    "import pandas as pd\n",
    "import numpy as np"
   ]
  },
  {
   "cell_type": "code",
   "execution_count": 3,
   "metadata": {},
   "outputs": [],
   "source": [
    "#读取csv格式文件\n",
    "train_data_file = \"Training_Data.csv\"\n",
    "test_data_file = \"Test_Data.csv\"\n",
    "df_train = pd.read_csv(train_data_file)\n",
    "df_test = pd.read_csv(test_data_file)"
   ]
  },
  {
   "cell_type": "code",
   "execution_count": 4,
   "metadata": {
    "scrolled": true
   },
   "outputs": [
    {
     "data": {
      "text/html": [
       "<div>\n",
       "<table border=\"1\" class=\"dataframe\">\n",
       "  <thead>\n",
       "    <tr style=\"text-align: right;\">\n",
       "      <th></th>\n",
       "      <th>encounter_id</th>\n",
       "      <th>patient_nbr</th>\n",
       "      <th>gender</th>\n",
       "      <th>age</th>\n",
       "      <th>time_in_hospital</th>\n",
       "      <th>Change</th>\n",
       "      <th>diabetesMed</th>\n",
       "      <th>readmitted</th>\n",
       "    </tr>\n",
       "  </thead>\n",
       "  <tbody>\n",
       "    <tr>\n",
       "      <th>0</th>\n",
       "      <td>2278392</td>\n",
       "      <td>8222157</td>\n",
       "      <td>0.0</td>\n",
       "      <td>5</td>\n",
       "      <td>1</td>\n",
       "      <td>0</td>\n",
       "      <td>0</td>\n",
       "      <td>0</td>\n",
       "    </tr>\n",
       "    <tr>\n",
       "      <th>1</th>\n",
       "      <td>149190</td>\n",
       "      <td>55629189</td>\n",
       "      <td>0.0</td>\n",
       "      <td>15</td>\n",
       "      <td>3</td>\n",
       "      <td>1</td>\n",
       "      <td>1</td>\n",
       "      <td>2</td>\n",
       "    </tr>\n",
       "    <tr>\n",
       "      <th>2</th>\n",
       "      <td>64410</td>\n",
       "      <td>86047875</td>\n",
       "      <td>0.0</td>\n",
       "      <td>25</td>\n",
       "      <td>2</td>\n",
       "      <td>0</td>\n",
       "      <td>1</td>\n",
       "      <td>0</td>\n",
       "    </tr>\n",
       "    <tr>\n",
       "      <th>3</th>\n",
       "      <td>500364</td>\n",
       "      <td>82442376</td>\n",
       "      <td>1.0</td>\n",
       "      <td>35</td>\n",
       "      <td>2</td>\n",
       "      <td>1</td>\n",
       "      <td>1</td>\n",
       "      <td>0</td>\n",
       "    </tr>\n",
       "    <tr>\n",
       "      <th>4</th>\n",
       "      <td>16680</td>\n",
       "      <td>42519267</td>\n",
       "      <td>1.0</td>\n",
       "      <td>45</td>\n",
       "      <td>1</td>\n",
       "      <td>1</td>\n",
       "      <td>1</td>\n",
       "      <td>0</td>\n",
       "    </tr>\n",
       "  </tbody>\n",
       "</table>\n",
       "</div>"
      ],
      "text/plain": [
       "   encounter_id  patient_nbr  gender  age  time_in_hospital  Change  \\\n",
       "0       2278392      8222157     0.0    5                 1       0   \n",
       "1        149190     55629189     0.0   15                 3       1   \n",
       "2         64410     86047875     0.0   25                 2       0   \n",
       "3        500364     82442376     1.0   35                 2       1   \n",
       "4         16680     42519267     1.0   45                 1       1   \n",
       "\n",
       "   diabetesMed  readmitted  \n",
       "0            0           0  \n",
       "1            1           2  \n",
       "2            1           0  \n",
       "3            1           0  \n",
       "4            1           0  "
      ]
     },
     "execution_count": 4,
     "metadata": {},
     "output_type": "execute_result"
    }
   ],
   "source": [
    "#查看前几行\n",
    "df_train.head()"
   ]
  },
  {
   "cell_type": "code",
   "execution_count": 5,
   "metadata": {},
   "outputs": [
    {
     "data": {
      "text/plain": [
       "(101700, 8)"
      ]
     },
     "execution_count": 5,
     "metadata": {},
     "output_type": "execute_result"
    }
   ],
   "source": [
    "#查看一共有多少行，多少列\n",
    "df_train.shape"
   ]
  },
  {
   "cell_type": "code",
   "execution_count": 6,
   "metadata": {},
   "outputs": [
    {
     "data": {
      "text/plain": [
       "Index([u'encounter_id', u'patient_nbr', u'gender', u'age', u'time_in_hospital',\n",
       "       u'Change', u'diabetesMed', u'readmitted'],\n",
       "      dtype='object')"
      ]
     },
     "execution_count": 6,
     "metadata": {},
     "output_type": "execute_result"
    }
   ],
   "source": [
    "#查看列名\n",
    "df_train.columns"
   ]
  },
  {
   "cell_type": "code",
   "execution_count": 7,
   "metadata": {
    "collapsed": true
   },
   "outputs": [],
   "source": [
    "#计算距离\n",
    "def distance(a,b,c,d,e,f,g,h,i,j,k,l):  \n",
    "    dis = np.sqrt((a - g) ** 2 + (b - h) ** 2 + (c - i) ** 2 + (d - j) ** 2 + (e - k) ** 2 + (f - l) ** 2)\n",
    "    return(dis)"
   ]
  },
  {
   "cell_type": "code",
   "execution_count": 8,
   "metadata": {},
   "outputs": [
    {
     "name": "stdout",
     "output_type": "stream",
     "text": [
      "The most similar data for the No. 1 test data is: \n",
      "   encounter_id  patient_nbr  distance\n",
      "0    11536212.0    2610117.0       0.0\n",
      "1    23169048.0    8800938.0       0.0\n",
      "2    11756178.0      70623.0       0.0\n",
      "3    25014186.0   55668357.0       0.0\n",
      "4    26472480.0   15722415.0       0.0\n",
      "The most similar data for the No. 2 test data is: \n",
      "   encounter_id  patient_nbr  distance\n",
      "0    20602470.0       8460.0       0.0\n",
      "1    23749230.0   25215192.0       0.0\n",
      "2    39398724.0  110361519.0       0.0\n",
      "3    29752854.0   23912712.0       0.0\n",
      "4     3714534.0    4269735.0       0.0\n",
      "The most similar data for the No. 3 test data is: \n",
      "   encounter_id  patient_nbr  distance\n",
      "0    28615326.0    3029643.0       0.0\n",
      "1    24187314.0   25906176.0       0.0\n",
      "2    12026568.0    4980582.0       0.0\n",
      "3    44966904.0   69752727.0       0.0\n",
      "4    22830642.0    8152047.0       0.0\n",
      "The most similar data for the No. 4 test data is: \n",
      "   encounter_id  patient_nbr  distance\n",
      "0    12656262.0   13299057.0       0.0\n",
      "1    32800740.0   25619643.0       0.0\n",
      "2     4065138.0    9029196.0       0.0\n",
      "3    43766334.0   18437580.0       0.0\n",
      "4    40742088.0    6066261.0       0.0\n",
      "The most similar data for the No. 5 test data is: \n",
      "   encounter_id  patient_nbr  distance\n",
      "0    33568614.0   23904909.0       0.0\n",
      "1    34629390.0    1060281.0       0.0\n",
      "2    44724030.0   58559904.0       0.0\n",
      "3    30737976.0    3984057.0       0.0\n",
      "4    39048276.0   24213078.0       0.0\n"
     ]
    }
   ],
   "source": [
    "#初始代码，将再住院结果作为特征变量\n",
    "#以前五个测试样本为例\n",
    "for y in range(5):\n",
    "    df = pd.DataFrame(columns=('encounter_id', 'patient_nbr', 'distance'))\n",
    "    for x in range(10700):\n",
    "        dist = distance(df_train.gender[x],df_train.age[x],df_train.time_in_hospital[x],df_train.Change[x],df_train.diabetesMed[x],df_test.readmitted[x],df_test.gender[y],df_test.age[y],df_test.time_in_hospital[y],df_test.Change[y],df_test.diabetesMed[y],df_test.readmitted[y])\n",
    "        df.loc[x] = [df_train.encounter_id[x],df_train.patient_nbr[x],dist]\n",
    "    df = df.sort_values([\"distance\"], ascending=True)\n",
    "    df = df.reset_index(drop=True)\n",
    "    print(\"The most similar data for the No. %d test data is: \" %(y+1))\n",
    "    print(df.ix[[0,1,2,3,4]])"
   ]
  },
  {
   "cell_type": "code",
   "execution_count": 13,
   "metadata": {
    "collapsed": true
   },
   "outputs": [],
   "source": [
    "def distance(a,b,c,d,e,g,h,i,j,k):  \n",
    "    dis = np.sqrt((a - g) ** 2 + (b - h) ** 2 + (c - i) ** 2 + (d - j) ** 2 + (e - k) ** 2)\n",
    "    return(dis)"
   ]
  },
  {
   "cell_type": "code",
   "execution_count": 14,
   "metadata": {},
   "outputs": [
    {
     "name": "stdout",
     "output_type": "stream",
     "text": [
      "The most similar data for the No. 1 test data is: \n",
      "   encounter_id  patient_nbr  distance  readmitted\n",
      "0    44384274.0   23365413.0       0.0         2.0\n",
      "1    17224356.0  113033133.0       0.0         0.0\n",
      "2    27777354.0    5883732.0       0.0         0.0\n",
      "3    10915626.0    1250325.0       0.0         2.0\n",
      "4    31783146.0    3875652.0       0.0         0.0\n",
      "The most similar data for the No. 2 test data is: \n",
      "   encounter_id  patient_nbr  distance  readmitted\n",
      "0    39398724.0  110361519.0       0.0         0.0\n",
      "1     8973804.0   13785651.0       0.0         0.0\n",
      "2    20602470.0       8460.0       0.0         0.0\n",
      "3    14369772.0   59902119.0       0.0         2.0\n",
      "4    40067448.0   23438538.0       0.0         2.0\n",
      "The most similar data for the No. 3 test data is: \n",
      "   encounter_id  patient_nbr  distance  readmitted\n",
      "0    35224344.0   12088881.0       0.0         2.0\n",
      "1    30570084.0      62937.0       0.0         2.0\n",
      "2    41422470.0   19187937.0       0.0         0.0\n",
      "3    11078988.0   35740404.0       0.0         0.0\n",
      "4    39376314.0   15945669.0       0.0         0.0\n",
      "The most similar data for the No. 4 test data is: \n",
      "   encounter_id  patient_nbr  distance  readmitted\n",
      "0    40730382.0   18251865.0       0.0         2.0\n",
      "1    40742088.0    6066261.0       0.0         0.0\n",
      "2     4065138.0    9029196.0       0.0         0.0\n",
      "3    12656262.0   13299057.0       0.0         0.0\n",
      "4    10567692.0   77515497.0       0.0         2.0\n",
      "The most similar data for the No. 5 test data is: \n",
      "   encounter_id  patient_nbr  distance  readmitted\n",
      "0    41767032.0    8794098.0       0.0         2.0\n",
      "1    36223482.0  109084554.0       0.0         1.0\n",
      "2    34629390.0    1060281.0       0.0         0.0\n",
      "3    24887226.0   24456987.0       0.0         0.0\n",
      "4    36467916.0   89376372.0       0.0         2.0\n"
     ]
    }
   ],
   "source": [
    "#改进方法，将再住院结果作为输出\n",
    "#以前五个测试样本为例\n",
    "\n",
    "for y in range(5):\n",
    "    df = pd.DataFrame(columns=('encounter_id', 'patient_nbr', 'distance','readmitted'))\n",
    "    for x in range(10700):\n",
    "        dist = distance(df_train.gender[x],df_train.age[x],df_train.time_in_hospital[x],df_train.Change[x],df_train.diabetesMed[x],df_test.gender[y],df_test.age[y],df_test.time_in_hospital[y],df_test.Change[y],df_test.diabetesMed[y])\n",
    "        df.loc[x] = [df_train.encounter_id[x],df_train.patient_nbr[x],dist,df_train.readmitted[x]]\n",
    "    df = df.sort_values([\"distance\"], ascending=True)\n",
    "    df = df.reset_index(drop=True)\n",
    "    print(\"The most similar data for the No. %d test data is: \" %(y+1))\n",
    "    print(df.ix[[0,1,2,3,4]])\n"
   ]
  }
 ],
 "metadata": {
  "kernelspec": {
   "display_name": "Python 3",
   "language": "python",
   "name": "python3"
  },
  "language_info": {
   "codemirror_mode": {
    "name": "ipython",
    "version": 3
   },
   "file_extension": ".py",
   "mimetype": "text/x-python",
   "name": "python",
   "nbconvert_exporter": "python",
   "pygments_lexer": "ipython3",
   "version": "3.7.3"
  }
 },
 "nbformat": 4,
 "nbformat_minor": 2
}
